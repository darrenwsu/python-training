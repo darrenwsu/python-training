{
 "cells": [
  {
   "cell_type": "code",
   "execution_count": 1,
   "id": "dc17128c",
   "metadata": {},
   "outputs": [
    {
     "name": "stdout",
     "output_type": "stream",
     "text": [
      "hello\n"
     ]
    }
   ],
   "source": [
    "print(\"hello\")"
   ]
  }
 ],
 "metadata": {
  "kernelspec": {
   "display_name": "Python 3.10.8 64-bit",
   "language": "python",
   "name": "python3"
  },
  "language_info": {
   "codemirror_mode": {
    "name": "ipython",
    "version": 3
   },
   "file_extension": ".py",
   "mimetype": "text/x-python",
   "name": "python",
   "nbconvert_exporter": "python",
   "pygments_lexer": "ipython3",
   "version": "3.10.8"
  },
  "vscode": {
   "interpreter": {
    "hash": "c16b4d92b04628d5cebd7f6bc38fe9bfa91fd30620b50ab5294ee03820c56ead"
   }
  }
 },
 "nbformat": 4,
 "nbformat_minor": 5
}
